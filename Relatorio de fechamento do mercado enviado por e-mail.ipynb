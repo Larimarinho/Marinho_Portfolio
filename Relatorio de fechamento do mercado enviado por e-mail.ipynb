{
 "cells": [
  {
   "cell_type": "markdown",
   "id": "4eab28da",
   "metadata": {},
   "source": [
    "# Projeto 1: Report de mercado\n",
    "\n",
    "### Desafio:\n",
    "\n",
    "* Automação de um relatório de fechamento de mercado com o Python através da coleta de cotações históricas do Ibovespa e Dólar e do envio diário através de uma ferramenta de e-mail automaticamente.  "
   ]
  },
  {
   "cell_type": "markdown",
   "id": "5899ffd2",
   "metadata": {},
   "source": [
    "### Instalando e importando os módulos e bibliotecas."
   ]
  },
  {
   "cell_type": "code",
   "execution_count": 1,
   "id": "3b6743d3",
   "metadata": {},
   "outputs": [
    {
     "name": "stdout",
     "output_type": "stream",
     "text": [
      "Requirement already satisfied: mplcyberpunk in c:\\users\\ameri\\anaconda3\\lib\\site-packages (0.7.1)\n",
      "Requirement already satisfied: matplotlib in c:\\users\\ameri\\anaconda3\\lib\\site-packages (from mplcyberpunk) (3.5.2)\n",
      "Requirement already satisfied: cycler>=0.10 in c:\\users\\ameri\\anaconda3\\lib\\site-packages (from matplotlib->mplcyberpunk) (0.11.0)\n",
      "Requirement already satisfied: pillow>=6.2.0 in c:\\users\\ameri\\anaconda3\\lib\\site-packages (from matplotlib->mplcyberpunk) (9.2.0)\n",
      "Requirement already satisfied: pyparsing>=2.2.1 in c:\\users\\ameri\\anaconda3\\lib\\site-packages (from matplotlib->mplcyberpunk) (3.0.9)\n",
      "Requirement already satisfied: python-dateutil>=2.7 in c:\\users\\ameri\\anaconda3\\lib\\site-packages (from matplotlib->mplcyberpunk) (2.8.2)\n",
      "Requirement already satisfied: numpy>=1.17 in c:\\users\\ameri\\anaconda3\\lib\\site-packages (from matplotlib->mplcyberpunk) (1.21.5)\n",
      "Requirement already satisfied: fonttools>=4.22.0 in c:\\users\\ameri\\anaconda3\\lib\\site-packages (from matplotlib->mplcyberpunk) (4.25.0)\n",
      "Requirement already satisfied: packaging>=20.0 in c:\\users\\ameri\\anaconda3\\lib\\site-packages (from matplotlib->mplcyberpunk) (23.2)\n",
      "Requirement already satisfied: kiwisolver>=1.0.1 in c:\\users\\ameri\\anaconda3\\lib\\site-packages (from matplotlib->mplcyberpunk) (1.4.2)\n",
      "Requirement already satisfied: six>=1.5 in c:\\users\\ameri\\anaconda3\\lib\\site-packages (from python-dateutil>=2.7->matplotlib->mplcyberpunk) (1.16.0)\n"
     ]
    }
   ],
   "source": [
    "!pip install mplcyberpunk"
   ]
  },
  {
   "cell_type": "code",
   "execution_count": 2,
   "id": "48e25957",
   "metadata": {},
   "outputs": [
    {
     "name": "stdout",
     "output_type": "stream",
     "text": [
      "Requirement already satisfied: yfinance==0.2.40 in c:\\users\\ameri\\anaconda3\\lib\\site-packages (0.2.40)\n",
      "Requirement already satisfied: pandas>=1.3.0 in c:\\users\\ameri\\anaconda3\\lib\\site-packages (from yfinance==0.2.40) (1.4.4)\n",
      "Requirement already satisfied: multitasking>=0.0.7 in c:\\users\\ameri\\anaconda3\\lib\\site-packages (from yfinance==0.2.40) (0.0.11)\n",
      "Requirement already satisfied: pytz>=2022.5 in c:\\users\\ameri\\anaconda3\\lib\\site-packages (from yfinance==0.2.40) (2024.1)\n",
      "Requirement already satisfied: html5lib>=1.1 in c:\\users\\ameri\\anaconda3\\lib\\site-packages (from yfinance==0.2.40) (1.1)\n",
      "Requirement already satisfied: beautifulsoup4>=4.11.1 in c:\\users\\ameri\\anaconda3\\lib\\site-packages (from yfinance==0.2.40) (4.11.1)\n",
      "Requirement already satisfied: numpy>=1.16.5 in c:\\users\\ameri\\anaconda3\\lib\\site-packages (from yfinance==0.2.40) (1.21.5)\n",
      "Requirement already satisfied: peewee>=3.16.2 in c:\\users\\ameri\\anaconda3\\lib\\site-packages (from yfinance==0.2.40) (3.17.6)\n",
      "Requirement already satisfied: lxml>=4.9.1 in c:\\users\\ameri\\anaconda3\\lib\\site-packages (from yfinance==0.2.40) (4.9.1)\n",
      "Requirement already satisfied: frozendict>=2.3.4 in c:\\users\\ameri\\anaconda3\\lib\\site-packages (from yfinance==0.2.40) (2.4.4)\n",
      "Requirement already satisfied: requests>=2.31 in c:\\users\\ameri\\anaconda3\\lib\\site-packages (from yfinance==0.2.40) (2.32.3)\n",
      "Requirement already satisfied: platformdirs>=2.0.0 in c:\\users\\ameri\\anaconda3\\lib\\site-packages (from yfinance==0.2.40) (2.5.2)\n",
      "Requirement already satisfied: soupsieve>1.2 in c:\\users\\ameri\\anaconda3\\lib\\site-packages (from beautifulsoup4>=4.11.1->yfinance==0.2.40) (2.3.1)\n",
      "Requirement already satisfied: six>=1.9 in c:\\users\\ameri\\anaconda3\\lib\\site-packages (from html5lib>=1.1->yfinance==0.2.40) (1.16.0)\n",
      "Requirement already satisfied: webencodings in c:\\users\\ameri\\anaconda3\\lib\\site-packages (from html5lib>=1.1->yfinance==0.2.40) (0.5.1)\n",
      "Requirement already satisfied: python-dateutil>=2.8.1 in c:\\users\\ameri\\anaconda3\\lib\\site-packages (from pandas>=1.3.0->yfinance==0.2.40) (2.8.2)\n",
      "Requirement already satisfied: charset-normalizer<4,>=2 in c:\\users\\ameri\\anaconda3\\lib\\site-packages (from requests>=2.31->yfinance==0.2.40) (2.0.4)\n",
      "Requirement already satisfied: urllib3<3,>=1.21.1 in c:\\users\\ameri\\anaconda3\\lib\\site-packages (from requests>=2.31->yfinance==0.2.40) (1.26.11)\n",
      "Requirement already satisfied: certifi>=2017.4.17 in c:\\users\\ameri\\anaconda3\\lib\\site-packages (from requests>=2.31->yfinance==0.2.40) (2022.9.14)\n",
      "Requirement already satisfied: idna<4,>=2.5 in c:\\users\\ameri\\anaconda3\\lib\\site-packages (from requests>=2.31->yfinance==0.2.40) (3.3)\n"
     ]
    }
   ],
   "source": [
    "!pip install yfinance==0.2.40"
   ]
  },
  {
   "cell_type": "code",
   "execution_count": 3,
   "id": "ab24a677",
   "metadata": {},
   "outputs": [],
   "source": [
    "import yfinance as yf\n",
    "import pandas as pd\n",
    "import matplotlib.pyplot as plt\n",
    "import mplcyberpunk"
   ]
  },
  {
   "cell_type": "markdown",
   "id": "82c937e4",
   "metadata": {},
   "source": [
    "### Pegando as cotações históricas."
   ]
  },
  {
   "cell_type": "code",
   "execution_count": 4,
   "id": "305c49cd",
   "metadata": {},
   "outputs": [],
   "source": [
    "tickers = [\"^BVSP\", \"^GSPC\", \"BRL=X\"]"
   ]
  },
  {
   "cell_type": "code",
   "execution_count": 5,
   "id": "34e2b9a1",
   "metadata": {},
   "outputs": [
    {
     "name": "stderr",
     "output_type": "stream",
     "text": [
      "[*********************100%%**********************]  3 of 3 completed\n"
     ]
    },
    {
     "data": {
      "text/html": [
       "<div>\n",
       "<style scoped>\n",
       "    .dataframe tbody tr th:only-of-type {\n",
       "        vertical-align: middle;\n",
       "    }\n",
       "\n",
       "    .dataframe tbody tr th {\n",
       "        vertical-align: top;\n",
       "    }\n",
       "\n",
       "    .dataframe thead th {\n",
       "        text-align: right;\n",
       "    }\n",
       "</style>\n",
       "<table border=\"1\" class=\"dataframe\">\n",
       "  <thead>\n",
       "    <tr style=\"text-align: right;\">\n",
       "      <th>Ticker</th>\n",
       "      <th>BRL=X</th>\n",
       "      <th>^BVSP</th>\n",
       "      <th>^GSPC</th>\n",
       "    </tr>\n",
       "    <tr>\n",
       "      <th>Date</th>\n",
       "      <th></th>\n",
       "      <th></th>\n",
       "      <th></th>\n",
       "    </tr>\n",
       "  </thead>\n",
       "  <tbody>\n",
       "    <tr>\n",
       "      <th>2024-03-11</th>\n",
       "      <td>4.97754</td>\n",
       "      <td>126124.00000</td>\n",
       "      <td>5117.939941</td>\n",
       "    </tr>\n",
       "    <tr>\n",
       "      <th>2024-03-12</th>\n",
       "      <td>4.97740</td>\n",
       "      <td>127668.00000</td>\n",
       "      <td>5175.270020</td>\n",
       "    </tr>\n",
       "    <tr>\n",
       "      <th>2024-03-13</th>\n",
       "      <td>4.96870</td>\n",
       "      <td>128006.00000</td>\n",
       "      <td>5165.310059</td>\n",
       "    </tr>\n",
       "    <tr>\n",
       "      <th>2024-03-14</th>\n",
       "      <td>4.96920</td>\n",
       "      <td>127690.00000</td>\n",
       "      <td>5150.479980</td>\n",
       "    </tr>\n",
       "    <tr>\n",
       "      <th>2024-03-15</th>\n",
       "      <td>4.99270</td>\n",
       "      <td>126742.00000</td>\n",
       "      <td>5117.089844</td>\n",
       "    </tr>\n",
       "    <tr>\n",
       "      <th>...</th>\n",
       "      <td>...</td>\n",
       "      <td>...</td>\n",
       "      <td>...</td>\n",
       "    </tr>\n",
       "    <tr>\n",
       "      <th>2024-09-03</th>\n",
       "      <td>5.61510</td>\n",
       "      <td>134353.00000</td>\n",
       "      <td>5528.930176</td>\n",
       "    </tr>\n",
       "    <tr>\n",
       "      <th>2024-09-04</th>\n",
       "      <td>5.64750</td>\n",
       "      <td>136111.00000</td>\n",
       "      <td>5520.069824</td>\n",
       "    </tr>\n",
       "    <tr>\n",
       "      <th>2024-09-05</th>\n",
       "      <td>5.64200</td>\n",
       "      <td>136502.00000</td>\n",
       "      <td>5503.410156</td>\n",
       "    </tr>\n",
       "    <tr>\n",
       "      <th>2024-09-06</th>\n",
       "      <td>5.56750</td>\n",
       "      <td>134572.00000</td>\n",
       "      <td>5408.419922</td>\n",
       "    </tr>\n",
       "    <tr>\n",
       "      <th>2024-09-09</th>\n",
       "      <td>5.58750</td>\n",
       "      <td>134732.53125</td>\n",
       "      <td>5471.049805</td>\n",
       "    </tr>\n",
       "  </tbody>\n",
       "</table>\n",
       "<p>131 rows × 3 columns</p>\n",
       "</div>"
      ],
      "text/plain": [
       "Ticker        BRL=X         ^BVSP        ^GSPC\n",
       "Date                                          \n",
       "2024-03-11  4.97754  126124.00000  5117.939941\n",
       "2024-03-12  4.97740  127668.00000  5175.270020\n",
       "2024-03-13  4.96870  128006.00000  5165.310059\n",
       "2024-03-14  4.96920  127690.00000  5150.479980\n",
       "2024-03-15  4.99270  126742.00000  5117.089844\n",
       "...             ...           ...          ...\n",
       "2024-09-03  5.61510  134353.00000  5528.930176\n",
       "2024-09-04  5.64750  136111.00000  5520.069824\n",
       "2024-09-05  5.64200  136502.00000  5503.410156\n",
       "2024-09-06  5.56750  134572.00000  5408.419922\n",
       "2024-09-09  5.58750  134732.53125  5471.049805\n",
       "\n",
       "[131 rows x 3 columns]"
      ]
     },
     "execution_count": 5,
     "metadata": {},
     "output_type": "execute_result"
    }
   ],
   "source": [
    "dados_mercado = yf.download(tickers, period = \"6mo\")\n",
    "dados_mercado = dados_mercado[\"Adj Close\"]\n",
    "dados_mercado"
   ]
  },
  {
   "cell_type": "markdown",
   "id": "bfef2f34",
   "metadata": {},
   "source": [
    "### Tratando dados coletados."
   ]
  },
  {
   "cell_type": "code",
   "execution_count": 6,
   "id": "722316a0",
   "metadata": {},
   "outputs": [
    {
     "data": {
      "text/html": [
       "<div>\n",
       "<style scoped>\n",
       "    .dataframe tbody tr th:only-of-type {\n",
       "        vertical-align: middle;\n",
       "    }\n",
       "\n",
       "    .dataframe tbody tr th {\n",
       "        vertical-align: top;\n",
       "    }\n",
       "\n",
       "    .dataframe thead th {\n",
       "        text-align: right;\n",
       "    }\n",
       "</style>\n",
       "<table border=\"1\" class=\"dataframe\">\n",
       "  <thead>\n",
       "    <tr style=\"text-align: right;\">\n",
       "      <th>Ticker</th>\n",
       "      <th>BRL=X</th>\n",
       "      <th>^BVSP</th>\n",
       "      <th>^GSPC</th>\n",
       "    </tr>\n",
       "    <tr>\n",
       "      <th>Date</th>\n",
       "      <th></th>\n",
       "      <th></th>\n",
       "      <th></th>\n",
       "    </tr>\n",
       "  </thead>\n",
       "  <tbody>\n",
       "    <tr>\n",
       "      <th>2024-03-11</th>\n",
       "      <td>4.97754</td>\n",
       "      <td>126124.00000</td>\n",
       "      <td>5117.939941</td>\n",
       "    </tr>\n",
       "    <tr>\n",
       "      <th>2024-03-12</th>\n",
       "      <td>4.97740</td>\n",
       "      <td>127668.00000</td>\n",
       "      <td>5175.270020</td>\n",
       "    </tr>\n",
       "    <tr>\n",
       "      <th>2024-03-13</th>\n",
       "      <td>4.96870</td>\n",
       "      <td>128006.00000</td>\n",
       "      <td>5165.310059</td>\n",
       "    </tr>\n",
       "    <tr>\n",
       "      <th>2024-03-14</th>\n",
       "      <td>4.96920</td>\n",
       "      <td>127690.00000</td>\n",
       "      <td>5150.479980</td>\n",
       "    </tr>\n",
       "    <tr>\n",
       "      <th>2024-03-15</th>\n",
       "      <td>4.99270</td>\n",
       "      <td>126742.00000</td>\n",
       "      <td>5117.089844</td>\n",
       "    </tr>\n",
       "    <tr>\n",
       "      <th>...</th>\n",
       "      <td>...</td>\n",
       "      <td>...</td>\n",
       "      <td>...</td>\n",
       "    </tr>\n",
       "    <tr>\n",
       "      <th>2024-09-03</th>\n",
       "      <td>5.61510</td>\n",
       "      <td>134353.00000</td>\n",
       "      <td>5528.930176</td>\n",
       "    </tr>\n",
       "    <tr>\n",
       "      <th>2024-09-04</th>\n",
       "      <td>5.64750</td>\n",
       "      <td>136111.00000</td>\n",
       "      <td>5520.069824</td>\n",
       "    </tr>\n",
       "    <tr>\n",
       "      <th>2024-09-05</th>\n",
       "      <td>5.64200</td>\n",
       "      <td>136502.00000</td>\n",
       "      <td>5503.410156</td>\n",
       "    </tr>\n",
       "    <tr>\n",
       "      <th>2024-09-06</th>\n",
       "      <td>5.56750</td>\n",
       "      <td>134572.00000</td>\n",
       "      <td>5408.419922</td>\n",
       "    </tr>\n",
       "    <tr>\n",
       "      <th>2024-09-09</th>\n",
       "      <td>5.58750</td>\n",
       "      <td>134732.53125</td>\n",
       "      <td>5471.049805</td>\n",
       "    </tr>\n",
       "  </tbody>\n",
       "</table>\n",
       "<p>124 rows × 3 columns</p>\n",
       "</div>"
      ],
      "text/plain": [
       "Ticker        BRL=X         ^BVSP        ^GSPC\n",
       "Date                                          \n",
       "2024-03-11  4.97754  126124.00000  5117.939941\n",
       "2024-03-12  4.97740  127668.00000  5175.270020\n",
       "2024-03-13  4.96870  128006.00000  5165.310059\n",
       "2024-03-14  4.96920  127690.00000  5150.479980\n",
       "2024-03-15  4.99270  126742.00000  5117.089844\n",
       "...             ...           ...          ...\n",
       "2024-09-03  5.61510  134353.00000  5528.930176\n",
       "2024-09-04  5.64750  136111.00000  5520.069824\n",
       "2024-09-05  5.64200  136502.00000  5503.410156\n",
       "2024-09-06  5.56750  134572.00000  5408.419922\n",
       "2024-09-09  5.58750  134732.53125  5471.049805\n",
       "\n",
       "[124 rows x 3 columns]"
      ]
     },
     "execution_count": 6,
     "metadata": {},
     "output_type": "execute_result"
    }
   ],
   "source": [
    "dados_mercado = dados_mercado.dropna()\n",
    "\n",
    "dados_mercado"
   ]
  },
  {
   "cell_type": "code",
   "execution_count": 7,
   "id": "86ba2c29",
   "metadata": {},
   "outputs": [
    {
     "data": {
      "text/html": [
       "<div>\n",
       "<style scoped>\n",
       "    .dataframe tbody tr th:only-of-type {\n",
       "        vertical-align: middle;\n",
       "    }\n",
       "\n",
       "    .dataframe tbody tr th {\n",
       "        vertical-align: top;\n",
       "    }\n",
       "\n",
       "    .dataframe thead th {\n",
       "        text-align: right;\n",
       "    }\n",
       "</style>\n",
       "<table border=\"1\" class=\"dataframe\">\n",
       "  <thead>\n",
       "    <tr style=\"text-align: right;\">\n",
       "      <th></th>\n",
       "      <th>DOLAR</th>\n",
       "      <th>IBOVESPA</th>\n",
       "      <th>S&amp;P500</th>\n",
       "    </tr>\n",
       "    <tr>\n",
       "      <th>Date</th>\n",
       "      <th></th>\n",
       "      <th></th>\n",
       "      <th></th>\n",
       "    </tr>\n",
       "  </thead>\n",
       "  <tbody>\n",
       "    <tr>\n",
       "      <th>2024-03-11</th>\n",
       "      <td>4.97754</td>\n",
       "      <td>126124.00000</td>\n",
       "      <td>5117.939941</td>\n",
       "    </tr>\n",
       "    <tr>\n",
       "      <th>2024-03-12</th>\n",
       "      <td>4.97740</td>\n",
       "      <td>127668.00000</td>\n",
       "      <td>5175.270020</td>\n",
       "    </tr>\n",
       "    <tr>\n",
       "      <th>2024-03-13</th>\n",
       "      <td>4.96870</td>\n",
       "      <td>128006.00000</td>\n",
       "      <td>5165.310059</td>\n",
       "    </tr>\n",
       "    <tr>\n",
       "      <th>2024-03-14</th>\n",
       "      <td>4.96920</td>\n",
       "      <td>127690.00000</td>\n",
       "      <td>5150.479980</td>\n",
       "    </tr>\n",
       "    <tr>\n",
       "      <th>2024-03-15</th>\n",
       "      <td>4.99270</td>\n",
       "      <td>126742.00000</td>\n",
       "      <td>5117.089844</td>\n",
       "    </tr>\n",
       "    <tr>\n",
       "      <th>...</th>\n",
       "      <td>...</td>\n",
       "      <td>...</td>\n",
       "      <td>...</td>\n",
       "    </tr>\n",
       "    <tr>\n",
       "      <th>2024-09-03</th>\n",
       "      <td>5.61510</td>\n",
       "      <td>134353.00000</td>\n",
       "      <td>5528.930176</td>\n",
       "    </tr>\n",
       "    <tr>\n",
       "      <th>2024-09-04</th>\n",
       "      <td>5.64750</td>\n",
       "      <td>136111.00000</td>\n",
       "      <td>5520.069824</td>\n",
       "    </tr>\n",
       "    <tr>\n",
       "      <th>2024-09-05</th>\n",
       "      <td>5.64200</td>\n",
       "      <td>136502.00000</td>\n",
       "      <td>5503.410156</td>\n",
       "    </tr>\n",
       "    <tr>\n",
       "      <th>2024-09-06</th>\n",
       "      <td>5.56750</td>\n",
       "      <td>134572.00000</td>\n",
       "      <td>5408.419922</td>\n",
       "    </tr>\n",
       "    <tr>\n",
       "      <th>2024-09-09</th>\n",
       "      <td>5.58750</td>\n",
       "      <td>134732.53125</td>\n",
       "      <td>5471.049805</td>\n",
       "    </tr>\n",
       "  </tbody>\n",
       "</table>\n",
       "<p>124 rows × 3 columns</p>\n",
       "</div>"
      ],
      "text/plain": [
       "              DOLAR      IBOVESPA       S&P500\n",
       "Date                                          \n",
       "2024-03-11  4.97754  126124.00000  5117.939941\n",
       "2024-03-12  4.97740  127668.00000  5175.270020\n",
       "2024-03-13  4.96870  128006.00000  5165.310059\n",
       "2024-03-14  4.96920  127690.00000  5150.479980\n",
       "2024-03-15  4.99270  126742.00000  5117.089844\n",
       "...             ...           ...          ...\n",
       "2024-09-03  5.61510  134353.00000  5528.930176\n",
       "2024-09-04  5.64750  136111.00000  5520.069824\n",
       "2024-09-05  5.64200  136502.00000  5503.410156\n",
       "2024-09-06  5.56750  134572.00000  5408.419922\n",
       "2024-09-09  5.58750  134732.53125  5471.049805\n",
       "\n",
       "[124 rows x 3 columns]"
      ]
     },
     "execution_count": 7,
     "metadata": {},
     "output_type": "execute_result"
    }
   ],
   "source": [
    "dados_mercado.columns = [\"DOLAR\", \"IBOVESPA\", \"S&P500\"]\n",
    "\n",
    "dados_mercado"
   ]
  },
  {
   "cell_type": "markdown",
   "id": "20d2408d",
   "metadata": {},
   "source": [
    "### Criando gráficos de performance."
   ]
  },
  {
   "cell_type": "code",
   "execution_count": 8,
   "id": "d72e310d",
   "metadata": {},
   "outputs": [],
   "source": [
    "plt.style.use(\"cyberpunk\")"
   ]
  },
  {
   "cell_type": "code",
   "execution_count": 9,
   "id": "ad5b0e1c",
   "metadata": {},
   "outputs": [
    {
     "data": {
      "image/png": "[encoded data removed]",
      "text/plain": [
       "<Figure size 640x480 with 1 Axes>"
      ]
     },
     "metadata": {},
     "output_type": "display_data"
    }
   ],
   "source": [
    "plt.plot(dados_mercado[\"IBOVESPA\"])\n",
    "plt.title(\"IBOVESPA\")\n",
    "\n",
    "plt.savefig(\"ibovespa.png\")"
   ]
  },
  {
   "cell_type": "code",
   "execution_count": 10,
   "id": "fade0f37",
   "metadata": {},
   "outputs": [
    {
     "data": {
      "image/png": "[encoded data removed]",
      "text/plain": [
       "<Figure size 640x480 with 1 Axes>"
      ]
     },
     "metadata": {},
     "output_type": "display_data"
    }
   ],
   "source": [
    "plt.plot(dados_mercado[\"DOLAR\"])\n",
    "plt.title(\"DOLAR\")\n",
    "\n",
    "plt.savefig(\"dolar.png\")"
   ]
  },
  {
   "cell_type": "code",
   "execution_count": 11,
   "id": "33d73e1b",
   "metadata": {},
   "outputs": [
    {
     "data": {
      "image/png": "[encoded data removed]",
      "text/plain": [
       "<Figure size 640x480 with 1 Axes>"
      ]
     },
     "metadata": {},
     "output_type": "display_data"
    }
   ],
   "source": [
    "plt.plot(dados_mercado[\"S&P500\"])\n",
    "plt.title(\"S&P500\")\n",
    "\n",
    "plt.savefig(\"sp500.png\")"
   ]
  },
  {
   "cell_type": "markdown",
   "id": "0c10b84e",
   "metadata": {},
   "source": [
    "###  Calculando retornos diários."
   ]
  },
  {
   "cell_type": "code",
   "execution_count": 12,
   "id": "7c280fc1",
   "metadata": {},
   "outputs": [
    {
     "data": {
      "text/html": [
       "<div>\n",
       "<style scoped>\n",
       "    .dataframe tbody tr th:only-of-type {\n",
       "        vertical-align: middle;\n",
       "    }\n",
       "\n",
       "    .dataframe tbody tr th {\n",
       "        vertical-align: top;\n",
       "    }\n",
       "\n",
       "    .dataframe thead th {\n",
       "        text-align: right;\n",
       "    }\n",
       "</style>\n",
       "<table border=\"1\" class=\"dataframe\">\n",
       "  <thead>\n",
       "    <tr style=\"text-align: right;\">\n",
       "      <th></th>\n",
       "      <th>DOLAR</th>\n",
       "      <th>IBOVESPA</th>\n",
       "      <th>S&amp;P500</th>\n",
       "    </tr>\n",
       "    <tr>\n",
       "      <th>Date</th>\n",
       "      <th></th>\n",
       "      <th></th>\n",
       "      <th></th>\n",
       "    </tr>\n",
       "  </thead>\n",
       "  <tbody>\n",
       "    <tr>\n",
       "      <th>2024-03-11</th>\n",
       "      <td>NaN</td>\n",
       "      <td>NaN</td>\n",
       "      <td>NaN</td>\n",
       "    </tr>\n",
       "    <tr>\n",
       "      <th>2024-03-12</th>\n",
       "      <td>-0.000028</td>\n",
       "      <td>0.012242</td>\n",
       "      <td>0.011202</td>\n",
       "    </tr>\n",
       "    <tr>\n",
       "      <th>2024-03-13</th>\n",
       "      <td>-0.001748</td>\n",
       "      <td>0.002647</td>\n",
       "      <td>-0.001925</td>\n",
       "    </tr>\n",
       "    <tr>\n",
       "      <th>2024-03-14</th>\n",
       "      <td>0.000101</td>\n",
       "      <td>-0.002469</td>\n",
       "      <td>-0.002871</td>\n",
       "    </tr>\n",
       "    <tr>\n",
       "      <th>2024-03-15</th>\n",
       "      <td>0.004729</td>\n",
       "      <td>-0.007424</td>\n",
       "      <td>-0.006483</td>\n",
       "    </tr>\n",
       "    <tr>\n",
       "      <th>...</th>\n",
       "      <td>...</td>\n",
       "      <td>...</td>\n",
       "      <td>...</td>\n",
       "    </tr>\n",
       "    <tr>\n",
       "      <th>2024-09-03</th>\n",
       "      <td>-0.002239</td>\n",
       "      <td>-0.012139</td>\n",
       "      <td>-0.021151</td>\n",
       "    </tr>\n",
       "    <tr>\n",
       "      <th>2024-09-04</th>\n",
       "      <td>0.005770</td>\n",
       "      <td>0.013085</td>\n",
       "      <td>-0.001603</td>\n",
       "    </tr>\n",
       "    <tr>\n",
       "      <th>2024-09-05</th>\n",
       "      <td>-0.000974</td>\n",
       "      <td>0.002873</td>\n",
       "      <td>-0.003018</td>\n",
       "    </tr>\n",
       "    <tr>\n",
       "      <th>2024-09-06</th>\n",
       "      <td>-0.013205</td>\n",
       "      <td>-0.014139</td>\n",
       "      <td>-0.017260</td>\n",
       "    </tr>\n",
       "    <tr>\n",
       "      <th>2024-09-09</th>\n",
       "      <td>0.003592</td>\n",
       "      <td>0.001193</td>\n",
       "      <td>0.011580</td>\n",
       "    </tr>\n",
       "  </tbody>\n",
       "</table>\n",
       "<p>124 rows × 3 columns</p>\n",
       "</div>"
      ],
      "text/plain": [
       "               DOLAR  IBOVESPA    S&P500\n",
       "Date                                    \n",
       "2024-03-11       NaN       NaN       NaN\n",
       "2024-03-12 -0.000028  0.012242  0.011202\n",
       "2024-03-13 -0.001748  0.002647 -0.001925\n",
       "2024-03-14  0.000101 -0.002469 -0.002871\n",
       "2024-03-15  0.004729 -0.007424 -0.006483\n",
       "...              ...       ...       ...\n",
       "2024-09-03 -0.002239 -0.012139 -0.021151\n",
       "2024-09-04  0.005770  0.013085 -0.001603\n",
       "2024-09-05 -0.000974  0.002873 -0.003018\n",
       "2024-09-06 -0.013205 -0.014139 -0.017260\n",
       "2024-09-09  0.003592  0.001193  0.011580\n",
       "\n",
       "[124 rows x 3 columns]"
      ]
     },
     "execution_count": 12,
     "metadata": {},
     "output_type": "execute_result"
    }
   ],
   "source": [
    "retornos_diarios = dados_mercado.pct_change()\n",
    "\n",
    "retornos_diarios"
   ]
  },
  {
   "cell_type": "code",
   "execution_count": 13,
   "id": "cf761398",
   "metadata": {},
   "outputs": [
    {
     "data": {
      "text/plain": [
       "-0.0009738538726100643"
      ]
     },
     "execution_count": 13,
     "metadata": {},
     "output_type": "execute_result"
    }
   ],
   "source": [
    "retornos_diarios[\"DOLAR\"].iloc[-3]"
   ]
  },
  {
   "cell_type": "code",
   "execution_count": 14,
   "id": "6e64e535",
   "metadata": {},
   "outputs": [],
   "source": [
    "retorno_dolar = retornos_diarios[\"DOLAR\"].iloc[-1]\n",
    "retorno_ibovespa = retornos_diarios[\"IBOVESPA\"].iloc[-1]\n",
    "retorno_sp = retornos_diarios[\"S&P500\"].iloc[-1]"
   ]
  },
  {
   "cell_type": "code",
   "execution_count": 15,
   "id": "3075feae",
   "metadata": {},
   "outputs": [
    {
     "data": {
      "text/plain": [
       "'0.36%'"
      ]
     },
     "execution_count": 15,
     "metadata": {},
     "output_type": "execute_result"
    }
   ],
   "source": [
    "retorno_dolar = str(round(retorno_dolar * 100, 2)) + \"%\"\n",
    "\n",
    "retorno_dolar"
   ]
  },
  {
   "cell_type": "code",
   "execution_count": 16,
   "id": "ca2aafd6",
   "metadata": {},
   "outputs": [
    {
     "data": {
      "text/plain": [
       "'1.16%'"
      ]
     },
     "execution_count": 16,
     "metadata": {},
     "output_type": "execute_result"
    }
   ],
   "source": [
    "retorno_ibovespa = str(round(retorno_ibovespa * 100, 2)) + \"%\"\n",
    "retorno_sp = str(round(retorno_sp * 100, 2)) + \"%\"\n",
    "\n",
    "retorno_sp"
   ]
  },
  {
   "cell_type": "code",
   "execution_count": 17,
   "id": "b03dc4fd",
   "metadata": {},
   "outputs": [
    {
     "data": {
      "text/plain": [
       "'0.12%'"
      ]
     },
     "execution_count": 17,
     "metadata": {},
     "output_type": "execute_result"
    }
   ],
   "source": [
    "retorno_ibovespa"
   ]
  },
  {
   "cell_type": "markdown",
   "id": "cb56e69d",
   "metadata": {},
   "source": [
    "### Configurando para enviar o e-mail."
   ]
  },
  {
   "cell_type": "code",
   "execution_count": 18,
   "id": "e078bb3a",
   "metadata": {},
   "outputs": [
    {
     "name": "stdout",
     "output_type": "stream",
     "text": [
      "Requirement already satisfied: pywin32 in c:\\users\\ameri\\anaconda3\\lib\\site-packages (302)\n"
     ]
    }
   ],
   "source": [
    "!pip install pywin32"
   ]
  },
  {
   "cell_type": "code",
   "execution_count": 19,
   "id": "59c19dbb",
   "metadata": {},
   "outputs": [],
   "source": [
    "import win32com.client as win32"
   ]
  },
  {
   "cell_type": "code",
   "execution_count": 20,
   "id": "7953439d",
   "metadata": {},
   "outputs": [],
   "source": [
    "outlook = win32.Dispatch(\"outlook.application\") \n",
    "\n",
    "email = outlook.CreateItem(0)"
   ]
  },
  {
   "cell_type": "code",
   "execution_count": 21,
   "id": "4c60f051",
   "metadata": {},
   "outputs": [],
   "source": [
    "email.To = \"larissa-marinho1@hotmail.com\"\n",
    "email.Subject = \"Relatório de Mercado\"\n",
    "email.Body = f'''Prezado(a), segue o relatório de mercado:\n",
    "\n",
    "* O Ibovespa teve o retorno de {retorno_ibovespa}.\n",
    "* O Dólar teve o retorno de {retorno_dolar}.\n",
    "* O S&P500 teve o retorno de {retorno_sp}.\n",
    "\n",
    "Segue em anexo a peformance dos ativos nos últimos 6 meses.\n",
    "\n",
    "Att,\n",
    "Larissa Marinho\n",
    "\n",
    "\n",
    "'''\n",
    "\n",
    "anexo_ibovespa = r\"C:\\Users\\ameri\\Downloads\\ibovespa.png\"\n",
    "anexo_dolar = r\"C:\\Users\\ameri\\Downloads\\dolar.png\"\n",
    "anexo_sp = r\"C:\\Users\\ameri\\Downloads\\sp500.png\"\n",
    "\n",
    "email.Attachments.Add(anexo_ibovespa)\n",
    "email.Attachments.Add(anexo_dolar)\n",
    "email.Attachments.Add(anexo_sp)\n",
    "\n",
    "email.Send()\n"
   ]
  },
  {
   "cell_type": "code",
   "execution_count": null,
   "id": "4f09c28b",
   "metadata": {},
   "outputs": [],
   "source": []
  },
  {
   "cell_type": "code",
   "execution_count": null,
   "id": "a4bb6974",
   "metadata": {},
   "outputs": [],
   "source": []
  }
 ],
 "metadata": {
  "kernelspec": {
   "display_name": "Python 3 (ipykernel)",
   "language": "python",
   "name": "python3"
  },
  "language_info": {
   "codemirror_mode": {
    "name": "ipython",
    "version": 3
   },
   "file_extension": ".py",
   "mimetype": "text/x-python",
   "name": "python",
   "nbconvert_exporter": "python",
   "pygments_lexer": "ipython3",
   "version": "3.9.13"
  }
 },
 "nbformat": 4,
 "nbformat_minor": 5
}
